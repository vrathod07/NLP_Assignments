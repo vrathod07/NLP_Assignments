{
  "cells": [
    {
      "cell_type": "markdown",
      "metadata": {
        "id": "N2R6InVPnWjZ"
      },
      "source": [
        "## POS tagging using Viterbi"
      ]
    },
    {
      "cell_type": "code",
      "execution_count": 48,
      "metadata": {
        "execution": {
          "iopub.execute_input": "2022-11-11T07:34:41.767777Z",
          "iopub.status.busy": "2022-11-11T07:34:41.767049Z",
          "iopub.status.idle": "2022-11-11T07:34:43.203769Z",
          "shell.execute_reply": "2022-11-11T07:34:43.202697Z",
          "shell.execute_reply.started": "2022-11-11T07:34:41.767720Z"
        },
        "id": "MdNaiZ3vnWjg",
        "trusted": true
      },
      "outputs": [],
      "source": [
        "#Importing libraries\n",
        "import nltk\n",
        "import numpy as np\n",
        "import pandas as pd\n",
        "import random\n",
        "from sklearn.model_selection import train_test_split\n",
        "from nltk.tokenize import word_tokenize\n",
        "import pprint, time"
      ]
    },
    {
      "cell_type": "code",
      "execution_count": 49,
      "metadata": {
        "colab": {
          "base_uri": "https://localhost:8080/"
        },
        "id": "m2uoMsi8ncyr",
        "outputId": "71245649-828a-4df5-fbd7-a3c85a48645b"
      },
      "outputs": [
        {
          "name": "stderr",
          "output_type": "stream",
          "text": [
            "[nltk_data] Downloading package brown to /root/nltk_data...\n",
            "[nltk_data]   Package brown is already up-to-date!\n",
            "[nltk_data] Downloading package universal_tagset to /root/nltk_data...\n",
            "[nltk_data]   Package universal_tagset is already up-to-date!\n",
            "[nltk_data] Downloading package punkt to /root/nltk_data...\n",
            "[nltk_data]   Package punkt is already up-to-date!\n"
          ]
        },
        {
          "data": {
            "text/plain": [
              "True"
            ]
          },
          "execution_count": 49,
          "metadata": {},
          "output_type": "execute_result"
        }
      ],
      "source": [
        "nltk.download('brown')\n",
        "nltk.download('universal_tagset')\n",
        "nltk.download('punkt')"
      ]
    },
    {
      "cell_type": "code",
      "execution_count": 50,
      "metadata": {
        "execution": {
          "iopub.execute_input": "2022-11-11T07:34:43.206306Z",
          "iopub.status.busy": "2022-11-11T07:34:43.205909Z"
        },
        "id": "sX_CAIm2nWji",
        "trusted": true
      },
      "outputs": [],
      "source": [
        "# reading the Treebank tagged sentences\n",
        "data = list(nltk.corpus.brown.tagged_sents(tagset='universal'))"
      ]
    },
    {
      "cell_type": "code",
      "execution_count": 51,
      "metadata": {
        "colab": {
          "base_uri": "https://localhost:8080/"
        },
        "id": "XanZ6FSVnWjj",
        "outputId": "f47ec498-da84-4105-b94d-a7b54ea3c641",
        "trusted": true
      },
      "outputs": [
        {
          "name": "stdout",
          "output_type": "stream",
          "text": [
            "[[('The', 'DET'), ('Fulton', 'NOUN'), ('County', 'NOUN'), ('Grand', 'ADJ'), ('Jury', 'NOUN'), ('said', 'VERB'), ('Friday', 'NOUN'), ('an', 'DET'), ('investigation', 'NOUN'), ('of', 'ADP'), (\"Atlanta's\", 'NOUN'), ('recent', 'ADJ'), ('primary', 'NOUN'), ('election', 'NOUN'), ('produced', 'VERB'), ('``', '.'), ('no', 'DET'), ('evidence', 'NOUN'), (\"''\", '.'), ('that', 'ADP'), ('any', 'DET'), ('irregularities', 'NOUN'), ('took', 'VERB'), ('place', 'NOUN'), ('.', '.')], [('The', 'DET'), ('jury', 'NOUN'), ('further', 'ADV'), ('said', 'VERB'), ('in', 'ADP'), ('term-end', 'NOUN'), ('presentments', 'NOUN'), ('that', 'ADP'), ('the', 'DET'), ('City', 'NOUN'), ('Executive', 'ADJ'), ('Committee', 'NOUN'), (',', '.'), ('which', 'DET'), ('had', 'VERB'), ('over-all', 'ADJ'), ('charge', 'NOUN'), ('of', 'ADP'), ('the', 'DET'), ('election', 'NOUN'), (',', '.'), ('``', '.'), ('deserves', 'VERB'), ('the', 'DET'), ('praise', 'NOUN'), ('and', 'CONJ'), ('thanks', 'NOUN'), ('of', 'ADP'), ('the', 'DET'), ('City', 'NOUN'), ('of', 'ADP'), ('Atlanta', 'NOUN'), (\"''\", '.'), ('for', 'ADP'), ('the', 'DET'), ('manner', 'NOUN'), ('in', 'ADP'), ('which', 'DET'), ('the', 'DET'), ('election', 'NOUN'), ('was', 'VERB'), ('conducted', 'VERB'), ('.', '.')], [('The', 'DET'), ('September-October', 'NOUN'), ('term', 'NOUN'), ('jury', 'NOUN'), ('had', 'VERB'), ('been', 'VERB'), ('charged', 'VERB'), ('by', 'ADP'), ('Fulton', 'NOUN'), ('Superior', 'ADJ'), ('Court', 'NOUN'), ('Judge', 'NOUN'), ('Durwood', 'NOUN'), ('Pye', 'NOUN'), ('to', 'PRT'), ('investigate', 'VERB'), ('reports', 'NOUN'), ('of', 'ADP'), ('possible', 'ADJ'), ('``', '.'), ('irregularities', 'NOUN'), (\"''\", '.'), ('in', 'ADP'), ('the', 'DET'), ('hard-fought', 'ADJ'), ('primary', 'NOUN'), ('which', 'DET'), ('was', 'VERB'), ('won', 'VERB'), ('by', 'ADP'), ('Mayor-nominate', 'NOUN'), ('Ivan', 'NOUN'), ('Allen', 'NOUN'), ('Jr.', 'NOUN'), ('.', '.')], [('``', '.'), ('Only', 'ADV'), ('a', 'DET'), ('relative', 'ADJ'), ('handful', 'NOUN'), ('of', 'ADP'), ('such', 'ADJ'), ('reports', 'NOUN'), ('was', 'VERB'), ('received', 'VERB'), (\"''\", '.'), (',', '.'), ('the', 'DET'), ('jury', 'NOUN'), ('said', 'VERB'), (',', '.'), ('``', '.'), ('considering', 'ADP'), ('the', 'DET'), ('widespread', 'ADJ'), ('interest', 'NOUN'), ('in', 'ADP'), ('the', 'DET'), ('election', 'NOUN'), (',', '.'), ('the', 'DET'), ('number', 'NOUN'), ('of', 'ADP'), ('voters', 'NOUN'), ('and', 'CONJ'), ('the', 'DET'), ('size', 'NOUN'), ('of', 'ADP'), ('this', 'DET'), ('city', 'NOUN'), (\"''\", '.'), ('.', '.')], [('The', 'DET'), ('jury', 'NOUN'), ('said', 'VERB'), ('it', 'PRON'), ('did', 'VERB'), ('find', 'VERB'), ('that', 'ADP'), ('many', 'ADJ'), ('of', 'ADP'), (\"Georgia's\", 'NOUN'), ('registration', 'NOUN'), ('and', 'CONJ'), ('election', 'NOUN'), ('laws', 'NOUN'), ('``', '.'), ('are', 'VERB'), ('outmoded', 'ADJ'), ('or', 'CONJ'), ('inadequate', 'ADJ'), ('and', 'CONJ'), ('often', 'ADV'), ('ambiguous', 'ADJ'), (\"''\", '.'), ('.', '.')], [('It', 'PRON'), ('recommended', 'VERB'), ('that', 'ADP'), ('Fulton', 'NOUN'), ('legislators', 'NOUN'), ('act', 'VERB'), ('``', '.'), ('to', 'PRT'), ('have', 'VERB'), ('these', 'DET'), ('laws', 'NOUN'), ('studied', 'VERB'), ('and', 'CONJ'), ('revised', 'VERB'), ('to', 'ADP'), ('the', 'DET'), ('end', 'NOUN'), ('of', 'ADP'), ('modernizing', 'VERB'), ('and', 'CONJ'), ('improving', 'VERB'), ('them', 'PRON'), (\"''\", '.'), ('.', '.')], [('The', 'DET'), ('grand', 'ADJ'), ('jury', 'NOUN'), ('commented', 'VERB'), ('on', 'ADP'), ('a', 'DET'), ('number', 'NOUN'), ('of', 'ADP'), ('other', 'ADJ'), ('topics', 'NOUN'), (',', '.'), ('among', 'ADP'), ('them', 'PRON'), ('the', 'DET'), ('Atlanta', 'NOUN'), ('and', 'CONJ'), ('Fulton', 'NOUN'), ('County', 'NOUN'), ('purchasing', 'VERB'), ('departments', 'NOUN'), ('which', 'DET'), ('it', 'PRON'), ('said', 'VERB'), ('``', '.'), ('are', 'VERB'), ('well', 'ADV'), ('operated', 'VERB'), ('and', 'CONJ'), ('follow', 'VERB'), ('generally', 'ADV'), ('accepted', 'VERB'), ('practices', 'NOUN'), ('which', 'DET'), ('inure', 'VERB'), ('to', 'ADP'), ('the', 'DET'), ('best', 'ADJ'), ('interest', 'NOUN'), ('of', 'ADP'), ('both', 'DET'), ('governments', 'NOUN'), (\"''\", '.'), ('.', '.')], [('Merger', 'NOUN'), ('proposed', 'VERB')], [('However', 'ADV'), (',', '.'), ('the', 'DET'), ('jury', 'NOUN'), ('said', 'VERB'), ('it', 'PRON'), ('believes', 'VERB'), ('``', '.'), ('these', 'DET'), ('two', 'NUM'), ('offices', 'NOUN'), ('should', 'VERB'), ('be', 'VERB'), ('combined', 'VERB'), ('to', 'PRT'), ('achieve', 'VERB'), ('greater', 'ADJ'), ('efficiency', 'NOUN'), ('and', 'CONJ'), ('reduce', 'VERB'), ('the', 'DET'), ('cost', 'NOUN'), ('of', 'ADP'), ('administration', 'NOUN'), (\"''\", '.'), ('.', '.')], [('The', 'DET'), ('City', 'NOUN'), ('Purchasing', 'VERB'), ('Department', 'NOUN'), (',', '.'), ('the', 'DET'), ('jury', 'NOUN'), ('said', 'VERB'), (',', '.'), ('``', '.'), ('is', 'VERB'), ('lacking', 'VERB'), ('in', 'ADP'), ('experienced', 'VERB'), ('clerical', 'ADJ'), ('personnel', 'NOUN'), ('as', 'ADP'), ('a', 'DET'), ('result', 'NOUN'), ('of', 'ADP'), ('city', 'NOUN'), ('personnel', 'NOUN'), ('policies', 'NOUN'), (\"''\", '.'), ('.', '.')]]\n"
          ]
        }
      ],
      "source": [
        "# let's check some of the tagged data\n",
        "print(data[:10])"
      ]
    },
    {
      "cell_type": "code",
      "execution_count": 52,
      "metadata": {
        "colab": {
          "base_uri": "https://localhost:8080/"
        },
        "id": "1fB7vLPSnWjk",
        "outputId": "50e52ba0-c4b1-4ac2-fc8a-ad59842df02c",
        "trusted": true
      },
      "outputs": [
        {
          "name": "stdout",
          "output_type": "stream",
          "text": [
            "Training Set Length - 54473\n",
            "Testing Set Length - 2867\n",
            "----------------------------------------------------------------------------------------------------\n",
            "Training Data -\n",
            "\n",
            "[[('I', 'PRON'), ('was', 'VERB'), ('held', 'VERB'), ('up', 'PRT'), ('a', 'DET'), ('bit', 'NOUN'), ('trying', 'VERB'), ('to', 'PRT'), ('make', 'VERB'), ('a', 'DET'), ('left', 'ADJ'), ('turn', 'NOUN'), ('.', '.')], [('The', 'DET'), ('trials', 'NOUN'), ('are', 'VERB'), ('independent', 'ADJ'), ('.', '.')], [('Furthermore', 'ADV'), ('I', 'PRON'), ('can', 'VERB'), ('identify', 'VERB'), ('each', 'DET'), ('design', 'NOUN'), ('.', '.')], [('Hoping', 'VERB'), ('to', 'PRT'), ('cut', 'VERB'), ('down', 'PRT'), ('on', 'ADP'), ('such', 'ADJ'), ('works', 'NOUN'), (',', '.'), ('Udall', 'NOUN'), ('had', 'VERB'), ('proposed', 'VERB'), ('that', 'ADP'), ('a', 'DET'), ('politician', 'NOUN'), ('be', 'VERB'), ('at', 'ADP'), ('least', 'ADJ'), ('fifty', 'NUM'), ('years', 'NOUN'), ('departed', 'VERB'), ('before', 'ADP'), ('he', 'PRON'), ('is', 'VERB'), ('memorialized', 'VERB'), ('.', '.')], [('``', '.'), ('Cromwell', 'NOUN'), (',', '.'), ('of', 'ADP'), ('course', 'NOUN'), ('.', '.')], [('He', 'PRON'), ('was', 'VERB'), ('tired', 'VERB'), (',', '.'), ('he', 'PRON'), ('had', 'VERB'), ('his', 'DET'), ('business', 'NOUN'), ('worries', 'NOUN'), (',', '.'), ('and', 'CONJ'), ('the', 'DET'), ('sight', 'NOUN'), ('of', 'ADP'), ('his', 'DET'), ('wife', 'NOUN'), ('arranging', 'VERB'), ('pork', 'NOUN'), ('chops', 'NOUN'), ('in', 'ADP'), ('the', 'DET'), ('broiler', 'NOUN'), ('only', 'ADV'), ('seemed', 'VERB'), ('like', 'ADP'), ('an', 'DET'), ('extension', 'NOUN'), ('of', 'ADP'), ('a', 'DET'), ('boring', 'VERB'), ('day', 'NOUN'), ('.', '.')], [('The', 'DET'), ('Thrift', 'NOUN'), ('Shop', 'NOUN'), (',', '.'), ('with', 'ADP'), ('Mrs.', 'NOUN'), ('Bernhard', 'NOUN'), ('S.', 'NOUN'), ('Blumenthal', 'NOUN'), ('as', 'ADP'), ('president', 'NOUN'), (',', '.'), ('is', 'VERB'), ('one', 'NUM'), ('of', 'ADP'), ('the', 'DET'), (\"city's\", 'NOUN'), ('most', 'ADV'), ('successful', 'ADJ'), ('fund-raisers', 'NOUN'), ('for', 'ADP'), ('the', 'DET'), ('Federation', 'NOUN'), ('of', 'ADP'), ('Jewish', 'ADJ'), ('Agencies', 'NOUN'), ('.', '.')], [('Shirl', 'NOUN'), ('Winter', 'NOUN'), ('said', 'VERB'), (',', '.'), ('``', '.'), (\"I'll\", 'PRT'), ('stay', 'VERB'), ('on', 'ADP'), ('the', 'DET'), ('phone', 'NOUN'), (',', '.'), ('Mr.', 'NOUN'), ('Paxton', 'NOUN'), ('.', '.')], [('But', 'CONJ'), ('at', 'ADP'), ('least', 'ADJ'), ('come', 'VERB'), ('along', 'ADV'), ('while', 'ADP'), ('I', 'PRON'), ('get', 'VERB'), ('lubricated', 'VERB'), (\"''\", '.'), ('.', '.')], [('An', 'DET'), ('essay', 'NOUN'), ('on', 'ADP'), ('``', '.'), ('Freedom', 'NOUN'), (\"''\", '.'), ('written', 'VERB'), ('at', 'ADP'), ('10', 'NUM'), ('years', 'NOUN'), ('of', 'ADP'), ('age', 'NOUN'), ('quoted', 'VERB'), ('the', 'DET'), ('Declaration', 'NOUN'), ('of', 'ADP'), ('Independence', 'NOUN'), (',', '.'), ('the', 'DET'), ('freedom', 'NOUN'), ('given', 'VERB'), ('to', 'ADP'), ('slaves', 'NOUN'), ('in', 'ADP'), ('Canada', 'NOUN'), (',', '.'), ('and', 'CONJ'), ('the', 'DET'), ('views', 'NOUN'), ('of', 'ADP'), ('George', 'NOUN'), ('Washington', 'NOUN'), ('.', '.')]]\n"
          ]
        }
      ],
      "source": [
        "# split data into training and validation set in the ratio 95:5\n",
        "random.seed(1234)\n",
        "train_set, test_set = train_test_split(data, train_size=0.95, test_size=0.05)\n",
        "\n",
        "print(\"Training Set Length -\", len(train_set))\n",
        "print(\"Testing Set Length -\", len(test_set))\n",
        "print(\"-\" * 100)\n",
        "print(\"Training Data -\\n\")\n",
        "print(train_set[:10])"
      ]
    },
    {
      "cell_type": "code",
      "execution_count": 53,
      "metadata": {
        "colab": {
          "base_uri": "https://localhost:8080/"
        },
        "id": "t1y8i77rnWjk",
        "outputId": "e12d7080-d45e-4cf4-f6bf-c47dd7803ae9",
        "trusted": true
      },
      "outputs": [
        {
          "name": "stdout",
          "output_type": "stream",
          "text": [
            "Train Tagged Words -  1103840\n",
            "Train Tagged Words -  57352\n"
          ]
        }
      ],
      "source": [
        "# Getting list of train and test tagged words\n",
        "train_tagged_words = [tup for sent in train_set for tup in sent]\n",
        "print(\"Train Tagged Words - \", len(train_tagged_words))\n",
        "\n",
        "test_tagged_words = [tup[0] for sent in test_set for tup in sent]\n",
        "print(\"Train Tagged Words - \", len(test_tagged_words))"
      ]
    },
    {
      "cell_type": "code",
      "execution_count": 54,
      "metadata": {
        "colab": {
          "base_uri": "https://localhost:8080/"
        },
        "id": "YmxL195bnWjl",
        "outputId": "4193c8c5-3be6-4673-e5ba-c3fbb8d58683",
        "trusted": true
      },
      "outputs": [
        {
          "data": {
            "text/plain": [
              "[('I', 'PRON'),\n",
              " ('was', 'VERB'),\n",
              " ('held', 'VERB'),\n",
              " ('up', 'PRT'),\n",
              " ('a', 'DET'),\n",
              " ('bit', 'NOUN'),\n",
              " ('trying', 'VERB'),\n",
              " ('to', 'PRT'),\n",
              " ('make', 'VERB'),\n",
              " ('a', 'DET')]"
            ]
          },
          "execution_count": 54,
          "metadata": {},
          "output_type": "execute_result"
        }
      ],
      "source": [
        "# Let's have a look at the tagged words in the training set\n",
        "train_tagged_words[:10]"
      ]
    },
    {
      "cell_type": "code",
      "execution_count": 55,
      "metadata": {
        "colab": {
          "base_uri": "https://localhost:8080/"
        },
        "id": "i3zj_F5InWjm",
        "outputId": "ea24bcbb-e34f-4d77-ba7a-066c2aca4f04",
        "trusted": true
      },
      "outputs": [
        {
          "data": {
            "text/plain": [
              "['I', 'was', 'held', 'up', 'a', 'bit', 'trying', 'to', 'make', 'a']"
            ]
          },
          "execution_count": 55,
          "metadata": {},
          "output_type": "execute_result"
        }
      ],
      "source": [
        "# tokens in the train set - train_tagged_words\n",
        "train_tagged_tokens = [tag[0] for tag in train_tagged_words]\n",
        "train_tagged_tokens[:10]"
      ]
    },
    {
      "cell_type": "code",
      "execution_count": 56,
      "metadata": {
        "colab": {
          "base_uri": "https://localhost:8080/"
        },
        "id": "evnqyhqVnWjm",
        "outputId": "8dcd3442-6c43-465b-fcc7-d487ef8222ef",
        "trusted": true
      },
      "outputs": [
        {
          "data": {
            "text/plain": [
              "['PRON', 'VERB', 'VERB', 'PRT', 'DET', 'NOUN', 'VERB', 'PRT', 'VERB', 'DET']"
            ]
          },
          "execution_count": 56,
          "metadata": {},
          "output_type": "execute_result"
        }
      ],
      "source": [
        "# POS tags for the tokens in the train set - train_tagged_words\n",
        "\n",
        "train_tagged_pos_tokens = [tag[1] for tag in train_tagged_words]\n",
        "train_tagged_pos_tokens[:10]"
      ]
    },
    {
      "cell_type": "code",
      "execution_count": 57,
      "metadata": {
        "id": "n9TUGUfdnWjn",
        "trusted": true
      },
      "outputs": [],
      "source": [
        "# building the train vocabulary to a set\n",
        "training_vocabulary_set = set(train_tagged_tokens)"
      ]
    },
    {
      "cell_type": "code",
      "execution_count": 58,
      "metadata": {
        "id": "-ZNKqRSanWjn",
        "trusted": true
      },
      "outputs": [],
      "source": [
        "# building the POS tags to a set\n",
        "training_pos_tag_set = set(train_tagged_pos_tokens)"
      ]
    },
    {
      "cell_type": "code",
      "execution_count": 59,
      "metadata": {
        "colab": {
          "base_uri": "https://localhost:8080/"
        },
        "id": "oxYxyMwVnWjo",
        "outputId": "62520486-57fb-4e98-eca4-a168eb0c2e99",
        "trusted": true
      },
      "outputs": [
        {
          "name": "stdout",
          "output_type": "stream",
          "text": [
            "12\n"
          ]
        }
      ],
      "source": [
        "# let's check how many unique tags are present in training data\n",
        "print(len(training_pos_tag_set))"
      ]
    },
    {
      "cell_type": "code",
      "execution_count": 60,
      "metadata": {
        "colab": {
          "base_uri": "https://localhost:8080/"
        },
        "id": "jOS_2NO9nWjo",
        "outputId": "5aa9c756-b7fe-4d77-9101-55dabdde1902",
        "trusted": true
      },
      "outputs": [
        {
          "name": "stdout",
          "output_type": "stream",
          "text": [
            "54763\n"
          ]
        }
      ],
      "source": [
        "# let's check how many words are present in vocabulary\n",
        "print(len(training_vocabulary_set))"
      ]
    },
    {
      "cell_type": "markdown",
      "metadata": {
        "id": "vttn9UC2nWjo"
      },
      "source": [
        "### Build the vanilla Viterbi based POS tagger"
      ]
    },
    {
      "cell_type": "markdown",
      "metadata": {
        "id": "AxDBVDhenWjp"
      },
      "source": [
        "#### Function to compute emission probabilties for a given word"
      ]
    },
    {
      "cell_type": "code",
      "execution_count": 61,
      "metadata": {
        "id": "_-ISMvALnWjp",
        "trusted": true
      },
      "outputs": [],
      "source": [
        "# compute emission probability for a given word for a given tag\n",
        "def word_given_tag(word, tag, train_bag = train_tagged_words):\n",
        "    tag_list = [pair for pair in train_bag if pair[1] == tag]\n",
        "    tag_count = len(tag_list)    \n",
        "    word_given_tag_list = [pair[0] for pair in tag_list if pair[0] == word]    \n",
        "    word_given_tag_count = len(word_given_tag_list)    \n",
        "    \n",
        "    return (word_given_tag_count, tag_count)"
      ]
    },
    {
      "cell_type": "markdown",
      "metadata": {
        "id": "7Ai107fTnWjq"
      },
      "source": [
        "#### Function to compute transition probabilties for a given tag and previous tag"
      ]
    },
    {
      "cell_type": "code",
      "execution_count": 62,
      "metadata": {
        "id": "eA92bBmgnWjq",
        "trusted": true
      },
      "outputs": [],
      "source": [
        "# compute transition probabilities of a previous and next tag\n",
        "def t2_given_t1(t2, t1, train_bag = train_tagged_words):\n",
        "    tags = [pair[1] for pair in train_bag]\n",
        "    \n",
        "    t1_tags_list = [tag for tag in tags if tag == t1]\n",
        "    t1_tags_count = len(t1_tags_list)\n",
        "    \n",
        "    t2_given_t1_list = [tags[index+1] for index in range(len(tags)-1) if tags[index] == t1 and tags[index+1] == t2]\n",
        "    t2_given_t1_count = len(t2_given_t1_list)\n",
        "    \n",
        "    return(t2_given_t1_count, t1_tags_count)"
      ]
    },
    {
      "cell_type": "code",
      "execution_count": 63,
      "metadata": {
        "id": "SZh5Y7xYnWjq",
        "trusted": true
      },
      "outputs": [],
      "source": [
        "# computing P(w/t) and storing in [Tags x Vocabulary] matrix. This is a matrix with dimension\n",
        "# of len(training_pos_tag_set) X en(training_vocabulary_set)\n",
        "\n",
        "len_pos_tags = len(training_pos_tag_set)\n",
        "len_vocab = len(training_vocabulary_set)"
      ]
    },
    {
      "cell_type": "code",
      "execution_count": 64,
      "metadata": {
        "id": "aeI_Q2x6nWjr",
        "trusted": true
      },
      "outputs": [],
      "source": [
        "# creating t x t transition matrix of training_pos_tag_set\n",
        "# each column is t2, each row is t1\n",
        "# thus M(i, j) represents P(tj given ti)\n",
        "\n",
        "tags_matrix = np.zeros((len_pos_tags, len_pos_tags), dtype='float32')\n",
        "for i, t1 in enumerate(list(training_pos_tag_set)):\n",
        "    for j, t2 in enumerate(list(training_pos_tag_set)): \n",
        "        tags_matrix[i, j] = t2_given_t1(t2, t1)[0]/t2_given_t1(t2, t1)[1]"
      ]
    },
    {
      "cell_type": "code",
      "execution_count": 65,
      "metadata": {
        "id": "6r49RYl1nWjr",
        "trusted": true
      },
      "outputs": [],
      "source": [
        "# convert the matrix to a df for better readability\n",
        "tags_df = pd.DataFrame(tags_matrix, columns = list(training_pos_tag_set), index=list(training_pos_tag_set))"
      ]
    },
    {
      "cell_type": "code",
      "execution_count": 66,
      "metadata": {
        "id": "zvV7S808nrvg"
      },
      "outputs": [],
      "source": [
        "tags_df.to_csv(\"tags_df.csv\")"
      ]
    },
    {
      "cell_type": "code",
      "execution_count": 67,
      "metadata": {
        "colab": {
          "base_uri": "https://localhost:8080/",
          "height": 490
        },
        "id": "g7KQraUGnWjr",
        "outputId": "81ec2181-acd3-4c66-88fe-b2f9ae72cea4",
        "trusted": true
      },
      "outputs": [
        {
          "data": {
            "text/html": [
              "\n",
              "  <div id=\"df-f5f8ebe7-7874-42ac-b930-c5f41f392691\">\n",
              "    <div class=\"colab-df-container\">\n",
              "      <div>\n",
              "<style scoped>\n",
              "    .dataframe tbody tr th:only-of-type {\n",
              "        vertical-align: middle;\n",
              "    }\n",
              "\n",
              "    .dataframe tbody tr th {\n",
              "        vertical-align: top;\n",
              "    }\n",
              "\n",
              "    .dataframe thead th {\n",
              "        text-align: right;\n",
              "    }\n",
              "</style>\n",
              "<table border=\"1\" class=\"dataframe\">\n",
              "  <thead>\n",
              "    <tr style=\"text-align: right;\">\n",
              "      <th></th>\n",
              "      <th>PRT</th>\n",
              "      <th>X</th>\n",
              "      <th>NOUN</th>\n",
              "      <th>ADJ</th>\n",
              "      <th>.</th>\n",
              "      <th>ADP</th>\n",
              "      <th>ADV</th>\n",
              "      <th>NUM</th>\n",
              "      <th>VERB</th>\n",
              "      <th>PRON</th>\n",
              "      <th>CONJ</th>\n",
              "      <th>DET</th>\n",
              "    </tr>\n",
              "  </thead>\n",
              "  <tbody>\n",
              "    <tr>\n",
              "      <th>PRT</th>\n",
              "      <td>0.011016</td>\n",
              "      <td>0.000071</td>\n",
              "      <td>0.035978</td>\n",
              "      <td>0.018960</td>\n",
              "      <td>0.076828</td>\n",
              "      <td>0.090739</td>\n",
              "      <td>0.036225</td>\n",
              "      <td>0.005084</td>\n",
              "      <td>0.623274</td>\n",
              "      <td>0.006638</td>\n",
              "      <td>0.011969</td>\n",
              "      <td>0.083219</td>\n",
              "    </tr>\n",
              "    <tr>\n",
              "      <th>X</th>\n",
              "      <td>0.006792</td>\n",
              "      <td>0.507925</td>\n",
              "      <td>0.054340</td>\n",
              "      <td>0.002264</td>\n",
              "      <td>0.279245</td>\n",
              "      <td>0.053585</td>\n",
              "      <td>0.007547</td>\n",
              "      <td>0.000755</td>\n",
              "      <td>0.052830</td>\n",
              "      <td>0.006792</td>\n",
              "      <td>0.023396</td>\n",
              "      <td>0.004528</td>\n",
              "    </tr>\n",
              "    <tr>\n",
              "      <th>NOUN</th>\n",
              "      <td>0.018005</td>\n",
              "      <td>0.000340</td>\n",
              "      <td>0.149926</td>\n",
              "      <td>0.012906</td>\n",
              "      <td>0.283717</td>\n",
              "      <td>0.244557</td>\n",
              "      <td>0.026640</td>\n",
              "      <td>0.008092</td>\n",
              "      <td>0.159083</td>\n",
              "      <td>0.020441</td>\n",
              "      <td>0.060028</td>\n",
              "      <td>0.016265</td>\n",
              "    </tr>\n",
              "    <tr>\n",
              "      <th>ADJ</th>\n",
              "      <td>0.019146</td>\n",
              "      <td>0.000478</td>\n",
              "      <td>0.652704</td>\n",
              "      <td>0.056948</td>\n",
              "      <td>0.100319</td>\n",
              "      <td>0.088527</td>\n",
              "      <td>0.009743</td>\n",
              "      <td>0.006977</td>\n",
              "      <td>0.017700</td>\n",
              "      <td>0.003897</td>\n",
              "      <td>0.037651</td>\n",
              "      <td>0.005909</td>\n",
              "    </tr>\n",
              "    <tr>\n",
              "      <th>.</th>\n",
              "      <td>0.032142</td>\n",
              "      <td>0.001484</td>\n",
              "      <td>0.136466</td>\n",
              "      <td>0.041851</td>\n",
              "      <td>0.140953</td>\n",
              "      <td>0.112298</td>\n",
              "      <td>0.078637</td>\n",
              "      <td>0.018575</td>\n",
              "      <td>0.093645</td>\n",
              "      <td>0.106984</td>\n",
              "      <td>0.087981</td>\n",
              "      <td>0.148977</td>\n",
              "    </tr>\n",
              "    <tr>\n",
              "      <th>ADP</th>\n",
              "      <td>0.014202</td>\n",
              "      <td>0.000479</td>\n",
              "      <td>0.258708</td>\n",
              "      <td>0.082478</td>\n",
              "      <td>0.009698</td>\n",
              "      <td>0.020354</td>\n",
              "      <td>0.015582</td>\n",
              "      <td>0.030139</td>\n",
              "      <td>0.041203</td>\n",
              "      <td>0.069715</td>\n",
              "      <td>0.001903</td>\n",
              "      <td>0.455539</td>\n",
              "    </tr>\n",
              "    <tr>\n",
              "      <th>ADV</th>\n",
              "      <td>0.028790</td>\n",
              "      <td>0.000093</td>\n",
              "      <td>0.032934</td>\n",
              "      <td>0.136424</td>\n",
              "      <td>0.169526</td>\n",
              "      <td>0.142212</td>\n",
              "      <td>0.096712</td>\n",
              "      <td>0.013331</td>\n",
              "      <td>0.240679</td>\n",
              "      <td>0.048263</td>\n",
              "      <td>0.017382</td>\n",
              "      <td>0.073654</td>\n",
              "    </tr>\n",
              "    <tr>\n",
              "      <th>NUM</th>\n",
              "      <td>0.005788</td>\n",
              "      <td>0.000212</td>\n",
              "      <td>0.382482</td>\n",
              "      <td>0.058936</td>\n",
              "      <td>0.271174</td>\n",
              "      <td>0.130999</td>\n",
              "      <td>0.020539</td>\n",
              "      <td>0.021669</td>\n",
              "      <td>0.046019</td>\n",
              "      <td>0.009176</td>\n",
              "      <td>0.038961</td>\n",
              "      <td>0.014046</td>\n",
              "    </tr>\n",
              "    <tr>\n",
              "      <th>VERB</th>\n",
              "      <td>0.065542</td>\n",
              "      <td>0.000184</td>\n",
              "      <td>0.097473</td>\n",
              "      <td>0.057537</td>\n",
              "      <td>0.080719</td>\n",
              "      <td>0.169283</td>\n",
              "      <td>0.103793</td>\n",
              "      <td>0.009047</td>\n",
              "      <td>0.184242</td>\n",
              "      <td>0.055200</td>\n",
              "      <td>0.014394</td>\n",
              "      <td>0.162584</td>\n",
              "    </tr>\n",
              "    <tr>\n",
              "      <th>PRON</th>\n",
              "      <td>0.023840</td>\n",
              "      <td>0.000021</td>\n",
              "      <td>0.008743</td>\n",
              "      <td>0.009638</td>\n",
              "      <td>0.103612</td>\n",
              "      <td>0.055975</td>\n",
              "      <td>0.053864</td>\n",
              "      <td>0.001002</td>\n",
              "      <td>0.705902</td>\n",
              "      <td>0.008402</td>\n",
              "      <td>0.011344</td>\n",
              "      <td>0.017656</td>\n",
              "    </tr>\n",
              "    <tr>\n",
              "      <th>CONJ</th>\n",
              "      <td>0.024932</td>\n",
              "      <td>0.000523</td>\n",
              "      <td>0.244662</td>\n",
              "      <td>0.112152</td>\n",
              "      <td>0.021047</td>\n",
              "      <td>0.073611</td>\n",
              "      <td>0.091049</td>\n",
              "      <td>0.018954</td>\n",
              "      <td>0.194633</td>\n",
              "      <td>0.067440</td>\n",
              "      <td>0.000275</td>\n",
              "      <td>0.150720</td>\n",
              "    </tr>\n",
              "    <tr>\n",
              "      <th>DET</th>\n",
              "      <td>0.002044</td>\n",
              "      <td>0.001452</td>\n",
              "      <td>0.626473</td>\n",
              "      <td>0.239823</td>\n",
              "      <td>0.012839</td>\n",
              "      <td>0.009082</td>\n",
              "      <td>0.017411</td>\n",
              "      <td>0.009735</td>\n",
              "      <td>0.064689</td>\n",
              "      <td>0.009912</td>\n",
              "      <td>0.000661</td>\n",
              "      <td>0.005878</td>\n",
              "    </tr>\n",
              "  </tbody>\n",
              "</table>\n",
              "</div>\n",
              "      <button class=\"colab-df-convert\" onclick=\"convertToInteractive('df-f5f8ebe7-7874-42ac-b930-c5f41f392691')\"\n",
              "              title=\"Convert this dataframe to an interactive table.\"\n",
              "              style=\"display:none;\">\n",
              "        \n",
              "  <svg xmlns=\"http://www.w3.org/2000/svg\" height=\"24px\"viewBox=\"0 0 24 24\"\n",
              "       width=\"24px\">\n",
              "    <path d=\"M0 0h24v24H0V0z\" fill=\"none\"/>\n",
              "    <path d=\"M18.56 5.44l.94 2.06.94-2.06 2.06-.94-2.06-.94-.94-2.06-.94 2.06-2.06.94zm-11 1L8.5 8.5l.94-2.06 2.06-.94-2.06-.94L8.5 2.5l-.94 2.06-2.06.94zm10 10l.94 2.06.94-2.06 2.06-.94-2.06-.94-.94-2.06-.94 2.06-2.06.94z\"/><path d=\"M17.41 7.96l-1.37-1.37c-.4-.4-.92-.59-1.43-.59-.52 0-1.04.2-1.43.59L10.3 9.45l-7.72 7.72c-.78.78-.78 2.05 0 2.83L4 21.41c.39.39.9.59 1.41.59.51 0 1.02-.2 1.41-.59l7.78-7.78 2.81-2.81c.8-.78.8-2.07 0-2.86zM5.41 20L4 18.59l7.72-7.72 1.47 1.35L5.41 20z\"/>\n",
              "  </svg>\n",
              "      </button>\n",
              "      \n",
              "  <style>\n",
              "    .colab-df-container {\n",
              "      display:flex;\n",
              "      flex-wrap:wrap;\n",
              "      gap: 12px;\n",
              "    }\n",
              "\n",
              "    .colab-df-convert {\n",
              "      background-color: #E8F0FE;\n",
              "      border: none;\n",
              "      border-radius: 50%;\n",
              "      cursor: pointer;\n",
              "      display: none;\n",
              "      fill: #1967D2;\n",
              "      height: 32px;\n",
              "      padding: 0 0 0 0;\n",
              "      width: 32px;\n",
              "    }\n",
              "\n",
              "    .colab-df-convert:hover {\n",
              "      background-color: #E2EBFA;\n",
              "      box-shadow: 0px 1px 2px rgba(60, 64, 67, 0.3), 0px 1px 3px 1px rgba(60, 64, 67, 0.15);\n",
              "      fill: #174EA6;\n",
              "    }\n",
              "\n",
              "    [theme=dark] .colab-df-convert {\n",
              "      background-color: #3B4455;\n",
              "      fill: #D2E3FC;\n",
              "    }\n",
              "\n",
              "    [theme=dark] .colab-df-convert:hover {\n",
              "      background-color: #434B5C;\n",
              "      box-shadow: 0px 1px 3px 1px rgba(0, 0, 0, 0.15);\n",
              "      filter: drop-shadow(0px 1px 2px rgba(0, 0, 0, 0.3));\n",
              "      fill: #FFFFFF;\n",
              "    }\n",
              "  </style>\n",
              "\n",
              "      <script>\n",
              "        const buttonEl =\n",
              "          document.querySelector('#df-f5f8ebe7-7874-42ac-b930-c5f41f392691 button.colab-df-convert');\n",
              "        buttonEl.style.display =\n",
              "          google.colab.kernel.accessAllowed ? 'block' : 'none';\n",
              "\n",
              "        async function convertToInteractive(key) {\n",
              "          const element = document.querySelector('#df-f5f8ebe7-7874-42ac-b930-c5f41f392691');\n",
              "          const dataTable =\n",
              "            await google.colab.kernel.invokeFunction('convertToInteractive',\n",
              "                                                     [key], {});\n",
              "          if (!dataTable) return;\n",
              "\n",
              "          const docLinkHtml = 'Like what you see? Visit the ' +\n",
              "            '<a target=\"_blank\" href=https://colab.research.google.com/notebooks/data_table.ipynb>data table notebook</a>'\n",
              "            + ' to learn more about interactive tables.';\n",
              "          element.innerHTML = '';\n",
              "          dataTable['output_type'] = 'display_data';\n",
              "          await google.colab.output.renderOutput(dataTable, element);\n",
              "          const docLink = document.createElement('div');\n",
              "          docLink.innerHTML = docLinkHtml;\n",
              "          element.appendChild(docLink);\n",
              "        }\n",
              "      </script>\n",
              "    </div>\n",
              "  </div>\n",
              "  "
            ],
            "text/plain": [
              "           PRT         X      NOUN       ADJ         .       ADP       ADV  \\\n",
              "PRT   0.011016  0.000071  0.035978  0.018960  0.076828  0.090739  0.036225   \n",
              "X     0.006792  0.507925  0.054340  0.002264  0.279245  0.053585  0.007547   \n",
              "NOUN  0.018005  0.000340  0.149926  0.012906  0.283717  0.244557  0.026640   \n",
              "ADJ   0.019146  0.000478  0.652704  0.056948  0.100319  0.088527  0.009743   \n",
              ".     0.032142  0.001484  0.136466  0.041851  0.140953  0.112298  0.078637   \n",
              "ADP   0.014202  0.000479  0.258708  0.082478  0.009698  0.020354  0.015582   \n",
              "ADV   0.028790  0.000093  0.032934  0.136424  0.169526  0.142212  0.096712   \n",
              "NUM   0.005788  0.000212  0.382482  0.058936  0.271174  0.130999  0.020539   \n",
              "VERB  0.065542  0.000184  0.097473  0.057537  0.080719  0.169283  0.103793   \n",
              "PRON  0.023840  0.000021  0.008743  0.009638  0.103612  0.055975  0.053864   \n",
              "CONJ  0.024932  0.000523  0.244662  0.112152  0.021047  0.073611  0.091049   \n",
              "DET   0.002044  0.001452  0.626473  0.239823  0.012839  0.009082  0.017411   \n",
              "\n",
              "           NUM      VERB      PRON      CONJ       DET  \n",
              "PRT   0.005084  0.623274  0.006638  0.011969  0.083219  \n",
              "X     0.000755  0.052830  0.006792  0.023396  0.004528  \n",
              "NOUN  0.008092  0.159083  0.020441  0.060028  0.016265  \n",
              "ADJ   0.006977  0.017700  0.003897  0.037651  0.005909  \n",
              ".     0.018575  0.093645  0.106984  0.087981  0.148977  \n",
              "ADP   0.030139  0.041203  0.069715  0.001903  0.455539  \n",
              "ADV   0.013331  0.240679  0.048263  0.017382  0.073654  \n",
              "NUM   0.021669  0.046019  0.009176  0.038961  0.014046  \n",
              "VERB  0.009047  0.184242  0.055200  0.014394  0.162584  \n",
              "PRON  0.001002  0.705902  0.008402  0.011344  0.017656  \n",
              "CONJ  0.018954  0.194633  0.067440  0.000275  0.150720  \n",
              "DET   0.009735  0.064689  0.009912  0.000661  0.005878  "
            ]
          },
          "execution_count": 67,
          "metadata": {},
          "output_type": "execute_result"
        }
      ],
      "source": [
        "# Let's have a glimpse into the transition matrix\n",
        "tags_df"
      ]
    },
    {
      "cell_type": "markdown",
      "metadata": {
        "id": "nsOD7GYdnWjs"
      },
      "source": [
        "### Exploratory Data Analysis"
      ]
    },
    {
      "cell_type": "code",
      "execution_count": 68,
      "metadata": {
        "id": "-jU_Zaf4nWjs",
        "trusted": true
      },
      "outputs": [],
      "source": [
        "# Importing libraries for heatmap\n",
        "import matplotlib.pyplot as plt\n",
        "import seaborn as sns"
      ]
    },
    {
      "cell_type": "code",
      "execution_count": 69,
      "metadata": {
        "colab": {
          "base_uri": "https://localhost:8080/",
          "height": 439
        },
        "id": "WEPWHEGinWjs",
        "outputId": "12369dfc-3bde-4b1d-b8a1-e821becc6570",
        "trusted": true
      },
      "outputs": [
        {
          "data": {
            "image/png": "[encoded data removed]",
            "text/plain": [
              "<Figure size 1008x576 with 2 Axes>"
            ]
          },
          "metadata": {
            "needs_background": "light"
          },
          "output_type": "display_data"
        }
      ],
      "source": [
        "# heatmap of tags matrix\n",
        "# T(i, j) means P(tag j given tag i)\n",
        "plt.figure(figsize=(14, 8))\n",
        "sns.heatmap(tags_df, annot = True)\n",
        "plt.show()"
      ]
    },
    {
      "cell_type": "markdown",
      "metadata": {
        "id": "4unxoyGSnWjt"
      },
      "source": [
        "### Viterbi Algorithm\n",
        "\n",
        "The steps are as follows:\n",
        "\n",
        "1. Given a sequence of words.\n",
        "2. iterate through the sequence\n",
        "3. for each word (starting from first word in sequence) calculate the product of emission probabilties and transition probabilties for all possible tags.\n",
        "4. assign the tag which has maximum probability obtained in step 3 above.\n",
        "5. move to the next word in sequence to repeat steps 3 and 4 above."
      ]
    },
    {
      "cell_type": "code",
      "execution_count": 70,
      "metadata": {
        "colab": {
          "base_uri": "https://localhost:8080/"
        },
        "id": "22HP1Vs4ycfi",
        "outputId": "d65183a8-1691-4a6a-b637-2c8298417617"
      },
      "outputs": [
        {
          "data": {
            "text/plain": [
              "PRT     0.032142\n",
              "X       0.001484\n",
              "NOUN    0.136466\n",
              "ADJ     0.041851\n",
              ".       0.140953\n",
              "ADP     0.112298\n",
              "ADV     0.078637\n",
              "NUM     0.018575\n",
              "VERB    0.093645\n",
              "PRON    0.106984\n",
              "CONJ    0.087981\n",
              "DET     0.148977\n",
              "Name: ., dtype: float32"
            ]
          },
          "execution_count": 70,
          "metadata": {},
          "output_type": "execute_result"
        }
      ],
      "source": [
        "tags_df.loc['.']"
      ]
    },
    {
      "cell_type": "code",
      "execution_count": 71,
      "metadata": {
        "id": "ZdLVaSD9nWjt",
        "trusted": true
      },
      "outputs": [],
      "source": [
        "# Vanilla Viterbi Algorithm\n",
        "def Vanilla_Viterbi(words, train_bag = train_tagged_words):\n",
        "    state = []\n",
        "    \n",
        "    T = list(set([pair[1] for pair in train_bag]))\n",
        "    \n",
        "    for key, word in enumerate(words):\n",
        "        #initialise list of probability column for a given observation\n",
        "        p = [] \n",
        "        for tag in T:\n",
        "            if key == 0:\n",
        "                transition_p = tags_df.loc['.', tag] #initial probability for all tags\n",
        "            else:\n",
        "                transition_p = tags_df.loc[state[-1], tag]\n",
        "                \n",
        "            # compute emission and state probabilities\n",
        "            emission_p = word_given_tag(words[key], tag)[0]/word_given_tag(words[key], tag)[1] #probabilit of a word given a sentence\n",
        "            state_probability = emission_p * transition_p    #probability of a given state(words and its tags)\n",
        "            p.append(state_probability) #append all the probabilities\n",
        "            \n",
        "        pmax = max(p) #select the max probability of that state\n",
        "        # getting state for which probability is maximum\n",
        "        state_max = T[p.index(pmax)] \n",
        "        state.append(state_max)\n",
        "    return list(zip(words, state))"
      ]
    },
    {
      "cell_type": "code",
      "execution_count": 72,
      "metadata": {
        "colab": {
          "base_uri": "https://localhost:8080/"
        },
        "id": "4RfImZ-RzmQl",
        "outputId": "10c4cabe-5f94-4b7b-e15d-807a3fb38aea"
      },
      "outputs": [
        {
          "name": "stdout",
          "output_type": "stream",
          "text": [
            "0.0\n"
          ]
        }
      ],
      "source": [
        "print(word_given_tag(\"IT\",\"X\")[0]/word_given_tag(\"IT\",\"X\")[1])"
      ]
    },
    {
      "cell_type": "code",
      "execution_count": 73,
      "metadata": {
        "id": "uD7__nVQx2BK"
      },
      "outputs": [],
      "source": [
        "# T = list(set([pair[1] for pair in train_tagged_words]))\n",
        "# emissions = []\n",
        "# results = []\n",
        "# for key, word in enumerate(test_tagged_words):\n",
        "#   for tag in T:\n",
        "#     emission_p = word_given_tag(test_tagged_words[key], tag)[0]/word_given_tag(test_tagged_words[key], tag)[1]\n",
        "#     emissions.append(emission_p)\n",
        "#   results.append(emissions)"
      ]
    },
    {
      "cell_type": "markdown",
      "metadata": {
        "id": "6OCVKZ-5nWju"
      },
      "source": [
        "### Testing Vanilla Viterbi Algorithm on sampled test data"
      ]
    },
    {
      "cell_type": "code",
      "execution_count": 74,
      "metadata": {
        "id": "H31yCu5YnWju",
        "trusted": true
      },
      "outputs": [],
      "source": [
        "# Let's test our Viterbi algorithm on a few sample sentences of test dataset\n",
        "\n",
        "random.seed(1234)\n",
        "\n",
        "# choose random 5 sents\n",
        "rndom = [random.randint(1, len(test_set)) for x in range(5)]\n",
        "\n",
        "# list of sents\n",
        "test_run = [test_set[i] for i in rndom]\n",
        "\n",
        "# list of tagged words\n",
        "test_run_base = [tup for sent in test_run for tup in sent]\n",
        "\n",
        "# list of untagged words\n",
        "test_tagged_words = [tup[0] for sent in test_run for tup in sent]"
      ]
    },
    {
      "cell_type": "code",
      "execution_count": 75,
      "metadata": {
        "colab": {
          "base_uri": "https://localhost:8080/"
        },
        "id": "dN0lEwS4nWju",
        "outputId": "a8243c9e-e538-4b74-8274-0cd6f2be6621",
        "trusted": true
      },
      "outputs": [
        {
          "name": "stdout",
          "output_type": "stream",
          "text": [
            "Vanilla Viterbi Algorithm Accuracy:  94.73684210526315\n"
          ]
        }
      ],
      "source": [
        "# tagging the test sentences\n",
        "\n",
        "tagged_seq = Vanilla_Viterbi(test_tagged_words)\n",
        "\n",
        "# accuracy\n",
        "vanilla_viterbi_word_check = [i for i, j in zip(tagged_seq, test_run_base) if i == j] \n",
        "vanilla_viterbi_accuracy = len(vanilla_viterbi_word_check)/len(tagged_seq) * 100\n",
        "print('Vanilla Viterbi Algorithm Accuracy: ', vanilla_viterbi_accuracy)"
      ]
    },
    {
      "cell_type": "code",
      "execution_count": 76,
      "metadata": {
        "colab": {
          "base_uri": "https://localhost:8080/"
        },
        "id": "PyKgsWhlwuTn",
        "outputId": "4efd9f43-728a-4dc9-f1bb-af0032281184"
      },
      "outputs": [
        {
          "data": {
            "text/plain": [
              "[('She', 'PRON'),\n",
              " ('was', 'VERB'),\n",
              " ('limp', 'ADJ'),\n",
              " ('and', 'CONJ'),\n",
              " ('beaten', 'VERB'),\n",
              " ('from', 'ADP'),\n",
              " ('her', 'DET'),\n",
              " ('loss', 'NOUN'),\n",
              " (';', '.'),\n",
              " (';', '.'),\n",
              " ('He', 'PRON'),\n",
              " ('raised', 'VERB'),\n",
              " ('the', 'DET'),\n",
              " ('Winchester', 'NOUN'),\n",
              " ('and', 'CONJ'),\n",
              " ('pointed', 'VERB'),\n",
              " ('it', 'PRON'),\n",
              " ('at', 'ADP'),\n",
              " (\"Wilson's\", 'NOUN'),\n",
              " ('chest', 'NOUN'),\n",
              " ('.', '.'),\n",
              " ('She', 'PRON'),\n",
              " ('was', 'VERB'),\n",
              " ('ready', 'ADJ'),\n",
              " ('to', 'PRT'),\n",
              " ('kill', 'VERB'),\n",
              " ('the', 'DET'),\n",
              " ('beef', 'NOUN'),\n",
              " (',', '.'),\n",
              " ('dress', 'NOUN'),\n",
              " ('it', 'PRON'),\n",
              " ('out', 'PRT'),\n",
              " (',', '.'),\n",
              " ('and', 'CONJ'),\n",
              " ('with', 'ADP'),\n",
              " ('vegetables', 'NOUN'),\n",
              " ('from', 'ADP'),\n",
              " ('her', 'DET'),\n",
              " ('garden', 'NOUN'),\n",
              " ('was', 'VERB'),\n",
              " ('going', 'VERB'),\n",
              " ('to', 'PRT'),\n",
              " ('can', 'VERB'),\n",
              " ('soup', 'NOUN'),\n",
              " (',', '.'),\n",
              " ('broth', 'NOUN'),\n",
              " (',', '.'),\n",
              " ('hash', 'PRT'),\n",
              " (',', '.'),\n",
              " ('and', 'CONJ'),\n",
              " ('stew', 'NOUN'),\n",
              " ('against', 'ADP'),\n",
              " ('the', 'DET'),\n",
              " ('winter', 'NOUN'),\n",
              " ('.', '.'),\n",
              " ('It', 'PRON'),\n",
              " ('would', 'VERB'),\n",
              " ('have', 'VERB'),\n",
              " ('been', 'VERB'),\n",
              " ('a', 'DET'),\n",
              " ('good', 'ADJ'),\n",
              " ('excuse', 'NOUN'),\n",
              " ('for', 'ADP'),\n",
              " ('his', 'DET'),\n",
              " ('being', 'VERB'),\n",
              " ('there', 'PRT'),\n",
              " ('at', 'ADP'),\n",
              " ('all', 'PRT'),\n",
              " ('.', '.'),\n",
              " ('But', 'CONJ'),\n",
              " ('I', 'PRON'),\n",
              " (\"wouldn't\", 'VERB'),\n",
              " ('have', 'VERB'),\n",
              " ('suggested', 'VERB'),\n",
              " ('it', 'PRON'),\n",
              " ('.', '.')]"
            ]
          },
          "execution_count": 76,
          "metadata": {},
          "output_type": "execute_result"
        }
      ],
      "source": [
        "tagged_seq"
      ]
    },
    {
      "cell_type": "code",
      "execution_count": 77,
      "metadata": {
        "id": "dosB67nD0NAo"
      },
      "outputs": [],
      "source": [
        "def tag_sentence(sent,tagged_seq):\n",
        "  result = []\n",
        "  words = sent.split(\" \")\n",
        "  for word in words:\n",
        "    for tup in tagged_seq:\n",
        "      if(tup[0] == word):\n",
        "        result.append(tup)\n",
        "  return result"
      ]
    },
    {
      "cell_type": "code",
      "execution_count": 78,
      "metadata": {
        "colab": {
          "base_uri": "https://localhost:8080/"
        },
        "id": "mKeh68y5xhdB",
        "outputId": "d733c51d-55d7-4be4-eb1b-7919980ba7f4"
      },
      "outputs": [
        {
          "data": {
            "text/plain": [
              "(1934, 46896)"
            ]
          },
          "execution_count": 78,
          "metadata": {},
          "output_type": "execute_result"
        }
      ],
      "source": [
        "word_given_tag(\"It\", \"PRON\", train_bag = train_tagged_words)"
      ]
    },
    {
      "cell_type": "code",
      "execution_count": 84,
      "metadata": {
        "id": "YsZIs8Vv3fYL"
      },
      "outputs": [],
      "source": [
        "sentences = [\"She was against it\", \"she was ready to kill the beef\",\"It would have been a good excuse\"]"
      ]
    },
    {
      "cell_type": "code",
      "execution_count": 85,
      "metadata": {
        "id": "7DnrGCxp4AX_"
      },
      "outputs": [],
      "source": [
        "results = []\n",
        "for sent in sentences:\n",
        "  results.append(tag_sentence(sent,tagged_seq))"
      ]
    },
    {
      "cell_type": "code",
      "execution_count": 87,
      "metadata": {
        "colab": {
          "base_uri": "https://localhost:8080/"
        },
        "id": "FzEmpca63ySt",
        "outputId": "4119475c-9989-47b1-ca96-226fa9804a7c"
      },
      "outputs": [
        {
          "data": {
            "text/plain": [
              "[[('She', 'PRON'),\n",
              "  ('She', 'PRON'),\n",
              "  ('was', 'VERB'),\n",
              "  ('was', 'VERB'),\n",
              "  ('was', 'VERB'),\n",
              "  ('against', 'ADP'),\n",
              "  ('it', 'PRON'),\n",
              "  ('it', 'PRON'),\n",
              "  ('it', 'PRON')],\n",
              " [('was', 'VERB'),\n",
              "  ('was', 'VERB'),\n",
              "  ('was', 'VERB'),\n",
              "  ('ready', 'ADJ'),\n",
              "  ('to', 'PRT'),\n",
              "  ('to', 'PRT'),\n",
              "  ('kill', 'VERB'),\n",
              "  ('the', 'DET'),\n",
              "  ('the', 'DET'),\n",
              "  ('the', 'DET'),\n",
              "  ('beef', 'NOUN')],\n",
              " [('It', 'PRON'),\n",
              "  ('would', 'VERB'),\n",
              "  ('have', 'VERB'),\n",
              "  ('have', 'VERB'),\n",
              "  ('been', 'VERB'),\n",
              "  ('a', 'DET'),\n",
              "  ('good', 'ADJ'),\n",
              "  ('excuse', 'NOUN')]]"
            ]
          },
          "execution_count": 87,
          "metadata": {},
          "output_type": "execute_result"
        }
      ],
      "source": [
        "results"
      ]
    },
    {
      "cell_type": "code",
      "execution_count": 82,
      "metadata": {
        "colab": {
          "base_uri": "https://localhost:8080/"
        },
        "id": "WuhO9YGf1VyY",
        "outputId": "56a5e8f6-b3e9-4433-dad4-fbe5d55131c3"
      },
      "outputs": [
        {
          "name": "stdout",
          "output_type": "stream",
          "text": [
            "0.0\n",
            "0.0\n",
            "0.0\n",
            "0.0\n",
            "0.0\n",
            "0.0\n",
            "0.0\n",
            "0.0\n",
            "0.0\n",
            "0.04124019106107131\n",
            "0.0\n",
            "0.0\n",
            "0.0\n",
            "0.0007547169811320754\n",
            "0.0\n",
            "0.0\n",
            "0.0\n",
            "0.0\n",
            "0.0\n",
            "0.0\n",
            "0.05489496402877698\n",
            "0.0\n",
            "0.0\n",
            "0.0\n",
            "0.0\n",
            "0.0\n",
            "0.0\n",
            "0.0\n",
            "0.0\n",
            "0.0\n",
            "0.07933010959466776\n",
            "0.0\n",
            "0.0\n",
            "0.0\n",
            "0.0\n",
            "0.0\n",
            "0.0\n",
            "0.0\n",
            "0.0\n",
            "0.0016594171925678224\n",
            "0.0\n",
            "0.0\n",
            "0.0010828774668135397\n",
            "0.0\n",
            "0.0\n",
            "0.0\n",
            "0.0\n",
            "0.0\n"
          ]
        }
      ],
      "source": [
        "sentence = \"It is not hard\"\n",
        "T = list(set([pair[1] for pair in train_tagged_words]))\n",
        "for word in word_tokenize(sentence):\n",
        "  for tag in T:\n",
        "    print(word_given_tag(word, tag)[0]/word_given_tag(word, tag)[1])"
      ]
    }
  ],
  "metadata": {
    "colab": {
      "collapsed_sections": [],
      "provenance": []
    },
    "kernelspec": {
      "display_name": "Python 3.8.10 64-bit",
      "language": "python",
      "name": "python3"
    },
    "language_info": {
      "codemirror_mode": {
        "name": "ipython",
        "version": 3
      },
      "file_extension": ".py",
      "mimetype": "text/x-python",
      "name": "python",
      "nbconvert_exporter": "python",
      "pygments_lexer": "ipython3",
      "version": "3.8.10"
    },
    "vscode": {
      "interpreter": {
        "hash": "916dbcbb3f70747c44a77c7bcd40155683ae19c65e1c03b4aa3499c5328201f1"
      }
    }
  },
  "nbformat": 4,
  "nbformat_minor": 0
}
